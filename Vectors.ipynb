{
 "cells": [
  {
   "cell_type": "markdown",
   "metadata": {},
   "source": [
    "# About\n",
    "This notebook contains examples pertaining to the Vector subsection of the linear algebra refresher slide deck."
   ]
  },
  {
   "cell_type": "code",
   "execution_count": 51,
   "metadata": {},
   "outputs": [],
   "source": [
    "from timeit import Timer\n",
    "\n",
    "import numpy as np\n",
    "import numpy.linalg as LA"
   ]
  },
  {
   "cell_type": "markdown",
   "metadata": {},
   "source": [
    "# Representation\n",
    "Representing a single vector in numpy."
   ]
  },
  {
   "cell_type": "code",
   "execution_count": 53,
   "metadata": {},
   "outputs": [
    {
     "name": "stdout",
     "output_type": "stream",
     "text": [
      "[[2]\n",
      " [4]]\n",
      "(2, 1)\n",
      " -- OR --\n",
      "[2 4]\n",
      "(2,)\n"
     ]
    }
   ],
   "source": [
    "v = np.array([[2], [4]])\n",
    "print(v)\n",
    "print(v.shape)\n",
    "print(' -- OR --')\n",
    "v = np.array([2, 4])  #  my \"preferred\" way\n",
    "print(v)\n",
    "print(v.shape)"
   ]
  },
  {
   "cell_type": "markdown",
   "metadata": {},
   "source": [
    "# Operations\n",
    "There are several basic vector operations.  They are:\n",
    "* addition\n",
    "* subtraction\n",
    "* multiplication\n",
    "    - scalar\n",
    "    - vector\n",
    "\n",
    "This section introduces the concept of vectorization as well.  In this content, vectorization\n",
    "refers to using numpy's \"C\" for loops instead of Python for loops which are much, much faster."
   ]
  },
  {
   "cell_type": "code",
   "execution_count": 55,
   "metadata": {
    "scrolled": true
   },
   "outputs": [
    {
     "name": "stdout",
     "output_type": "stream",
     "text": [
      "x + y (loop)\n",
      "4\n",
      "3\n",
      "\n",
      "x + y (vectorized)\n",
      "[[4]\n",
      " [3]]\n",
      "\n",
      "x - y (loop)\n",
      "-2\n",
      "1\n",
      "\n",
      "x - y (vectorized)\n",
      "[[-4]\n",
      " [ 2]]\n",
      "\n",
      "y - x (vectorized)\n",
      "[[ 4]\n",
      " [-2]]\n",
      "\n",
      "2x (loop)\n",
      "2\n",
      "6\n",
      "\n",
      "2x (vectorized)\n",
      "[[2]\n",
      " [6]]\n",
      "\n",
      "-3/2y (vectorized)\n",
      "[[-0.]\n",
      " [ 3.]]\n",
      "\n",
      "x * y (vectorized)\n",
      "[[6]\n",
      " [8]\n",
      " [5]]\n",
      "\n",
      "\n",
      "Python ran in 780.8ms and numpy ran in 9.441ms\n",
      "Using numpy was 81.6982083869354x faster than pure Python\n"
     ]
    }
   ],
   "source": [
    "def display(op, result):\n",
    "    print(op)\n",
    "    print(result)\n",
    "    print()\n",
    "\n",
    "# Addition\n",
    "x = np.array([[1], [2]])\n",
    "y = np.array([[3], [1]])\n",
    "print('x + y (loop)')\n",
    "for px, py in zip([1, 2], [3, 1]):\n",
    "    print(px + py)\n",
    "print()\n",
    "display('x + y (vectorized)', x + y)\n",
    "\n",
    "# Subtraction\n",
    "x = np.array([[1], [3]])\n",
    "y = np.array([[5], [1]])\n",
    "print('x - y (loop)')\n",
    "for px, py in zip([1, 2], [3, 1]):\n",
    "    print(px - py)\n",
    "print()\n",
    "display('x - y (vectorized)', x - y)\n",
    "display('y - x (vectorized)', y - x)  # Note how order matters\n",
    "\n",
    "# Scalar Multiplication\n",
    "x = np.array([[1], [3]])\n",
    "y = np.array([[0], [-2]])\n",
    "print('2x (loop)')\n",
    "for px in [1, 3]:\n",
    "    print(2 * px)\n",
    "print()\n",
    "display('2x (vectorized)', 2 * x)\n",
    "display('-3/2y (vectorized)', (-3 / 2) * y)\n",
    "\n",
    "# Vector Multiplication\n",
    "x = np.array([[2], [4], [5]])\n",
    "y = np.array([[3], [2], [1]])\n",
    "display('x * y (vectorized)', x * y)\n",
    "print()\n",
    "\n",
    "# Vectorization performance difference\n",
    "test_list = list(range(1000000))\n",
    "nump_arr = np.array(test_list)\n",
    "\n",
    "def python_for():\n",
    "    return [num + 1 for num in test_list]\n",
    "\n",
    "def numpy_add():\n",
    "    return nump_arr + 1\n",
    "\n",
    "py_result = min(Timer(python_for).repeat(10, 10))\n",
    "np_result = min(Timer(numpy_add).repeat(10, 10))\n",
    "print(f'Python ran in {py_result*1000:.04}ms and numpy ran in {np_result*1000:.04}ms')\n",
    "print(f'Using numpy was {(py_result - np_result) / np_result}x faster than pure Python')\n"
   ]
  },
  {
   "cell_type": "markdown",
   "metadata": {},
   "source": [
    "# Magnitude and Direction"
   ]
  },
  {
   "cell_type": "code",
   "execution_count": 57,
   "metadata": {},
   "outputs": [
    {
     "name": "stdout",
     "output_type": "stream",
     "text": [
      "[[4]\n",
      " [3]]\n",
      "\n",
      "magnitude\n",
      "\tusing numpy linear algebra module: 5.0\n",
      "\tusing standard numpy functions: 5.0\n",
      "\n",
      "unit vector of x\n",
      "[[0.8]\n",
      " [0.6]]\n",
      "magnitude of u: 1.0\n"
     ]
    }
   ],
   "source": [
    "# magnitude\n",
    "x = np.array([[4], [3]])\n",
    "print(x)\n",
    "print()\n",
    "\n",
    "print('magnitude')\n",
    "print('\\tusing numpy linear algebra module:', LA.norm(x))  # using built-in numpy functions\n",
    "print('\\tusing standard numpy functions:', np.sqrt(np.sum(x ** 2)))  # \"manually\" calculating the norm\n",
    "print()\n",
    "\n",
    "# unit vector\n",
    "print('unit vector of x')\n",
    "u = x / LA.norm(x)\n",
    "print(u)\n",
    "print('magnitude of u:', LA.norm(u))"
   ]
  },
  {
   "cell_type": "markdown",
   "metadata": {},
   "source": [
    "# Dot Product"
   ]
  },
  {
   "cell_type": "code",
   "execution_count": null,
   "metadata": {},
   "outputs": [],
   "source": [
    "v = np.array([[1], [2], [1]])\n",
    "w = np.array([[3], [1], [0]])\n",
    "\n",
    "f_result = 0\n",
    "for pv, pw in zip([1, 2, 1], [3, 1, 0]):\n",
    "    f_result += pv * pw\n",
    "\n",
    "print('using python for loops:', f_result)\n",
    "print('using numpy.dot:', np.dot(v.T, w)[0][0])  # using numpy.dot\n",
    "print('standard numpy functions:', np.sum(v * w))"
   ]
  },
  {
   "cell_type": "markdown",
   "metadata": {},
   "source": [
    "# Cross Product"
   ]
  },
  {
   "cell_type": "code",
   "execution_count": null,
   "metadata": {},
   "outputs": [],
   "source": [
    "v = np.array([[5], [0], [0]])\n",
    "w = np.array([[0], [5], [0]])\n",
    "\n",
    "print(np.cross(v.flatten(), w.flatten()).reshape((3, 1)))"
   ]
  },
  {
   "cell_type": "code",
   "execution_count": null,
   "metadata": {},
   "outputs": [],
   "source": []
  }
 ],
 "metadata": {
  "celltoolbar": "Raw Cell Format",
  "kernelspec": {
   "display_name": "Python 3",
   "language": "python",
   "name": "python3"
  },
  "language_info": {
   "codemirror_mode": {
    "name": "ipython",
    "version": 3
   },
   "file_extension": ".py",
   "mimetype": "text/x-python",
   "name": "python",
   "nbconvert_exporter": "python",
   "pygments_lexer": "ipython3",
   "version": "3.7.2"
  }
 },
 "nbformat": 4,
 "nbformat_minor": 2
}
