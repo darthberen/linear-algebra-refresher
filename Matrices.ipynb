{
 "cells": [
  {
   "cell_type": "markdown",
   "metadata": {},
   "source": [
    "# About\n",
    "This notebook contains examples pertaining to matrix operations using numpy."
   ]
  },
  {
   "cell_type": "code",
   "execution_count": 1,
   "metadata": {},
   "outputs": [],
   "source": [
    "import numpy as np"
   ]
  },
  {
   "cell_type": "markdown",
   "metadata": {},
   "source": [
    "# Matrix Instantiation\n",
    "Creating matrices using numpy"
   ]
  },
  {
   "cell_type": "code",
   "execution_count": 6,
   "metadata": {},
   "outputs": [
    {
     "name": "stdout",
     "output_type": "stream",
     "text": [
      "[[1 2 3]\n",
      " [4 5 6]]\n",
      "--------------------\n",
      "[[[1 2]\n",
      "  [3 4]]\n",
      "\n",
      " [[5 6]\n",
      "  [7 8]]]\n"
     ]
    }
   ],
   "source": [
    "m1 = np.array([[1, 2, 3], [4, 5, 6]])\n",
    "print(m1)\n",
    "\n",
    "print('-' * 20)\n",
    "\n",
    "m2 = np.array([[[1, 2], [3, 4]], [[5, 6], [7, 8]]])\n",
    "print(m2)"
   ]
  },
  {
   "cell_type": "code",
   "execution_count": 10,
   "metadata": {},
   "outputs": [
    {
     "name": "stdout",
     "output_type": "stream",
     "text": [
      "1\n",
      "[[1 2]\n",
      " [3 4]]\n",
      "[3 4]\n",
      "3\n"
     ]
    }
   ],
   "source": [
    "print(m1[0][0])\n",
    "print(m2[0])\n",
    "print(m2[0][1])\n",
    "print(m2[0][1][0])"
   ]
  },
  {
   "cell_type": "markdown",
   "metadata": {},
   "source": [
    "# Scalar Multiplication\n",
    "Multiplying a matrix by a scalar value"
   ]
  },
  {
   "cell_type": "code",
   "execution_count": 13,
   "metadata": {},
   "outputs": [
    {
     "name": "stdout",
     "output_type": "stream",
     "text": [
      "[[1 2]\n",
      " [3 4]]\n",
      "--------------------\n",
      "[[ 3  6]\n",
      " [ 9 12]]\n",
      "--------------------\n",
      "[[-2 -4]\n",
      " [-6 -8]]\n"
     ]
    }
   ],
   "source": [
    "m = np.array([[1, 2], [3, 4]])\n",
    "print(m)\n",
    "print('-' * 20)\n",
    "print(3 * m)\n",
    "print('-' * 20)\n",
    "print(-2 * m)"
   ]
  },
  {
   "cell_type": "markdown",
   "metadata": {},
   "source": [
    "# Matrix Addition, Subtraction, and Multiplication\n",
    "Elementwise addition and substraction operations.  Note that for elementwise operations to work the matrices must be the same size!"
   ]
  },
  {
   "cell_type": "code",
   "execution_count": null,
   "metadata": {},
   "outputs": [],
   "source": []
  }
 ],
 "metadata": {
  "kernelspec": {
   "display_name": "Python 3",
   "language": "python",
   "name": "python3"
  },
  "language_info": {
   "codemirror_mode": {
    "name": "ipython",
    "version": 3
   },
   "file_extension": ".py",
   "mimetype": "text/x-python",
   "name": "python",
   "nbconvert_exporter": "python",
   "pygments_lexer": "ipython3",
   "version": "3.7.2"
  }
 },
 "nbformat": 4,
 "nbformat_minor": 2
}
