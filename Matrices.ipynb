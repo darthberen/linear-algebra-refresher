{
 "cells": [
  {
   "cell_type": "markdown",
   "metadata": {},
   "source": [
    "# About\n",
    "This notebook contains examples pertaining to matrix operations using numpy."
   ]
  },
  {
   "cell_type": "code",
   "execution_count": 86,
   "metadata": {},
   "outputs": [],
   "source": [
    "import numpy as np\n",
    "import numpy.linalg as LA"
   ]
  },
  {
   "cell_type": "markdown",
   "metadata": {},
   "source": [
    "# Matrix Instantiation\n",
    "Creating matrices using numpy"
   ]
  },
  {
   "cell_type": "code",
   "execution_count": 87,
   "metadata": {},
   "outputs": [
    {
     "name": "stdout",
     "output_type": "stream",
     "text": [
      "[[1 2 3]\n",
      " [4 5 6]]\n",
      "shape: (2, 3)\n",
      "--------------------\n",
      "[[[ 1  2]\n",
      "  [ 3  4]\n",
      "  [ 5  6]]\n",
      "\n",
      " [[ 7  8]\n",
      "  [ 9 10]\n",
      "  [11 12]]]\n",
      "shape: (2, 3, 2)\n"
     ]
    }
   ],
   "source": [
    "m1 = np.array([[1, 2, 3], [4, 5, 6]])\n",
    "print(m1)\n",
    "print(f'shape: {m1.shape}')\n",
    "\n",
    "print('-' * 20)\n",
    "\n",
    "m2 = np.array([[[1, 2], [3, 4], [5, 6]], [[7, 8], [9, 10], [11, 12]]])\n",
    "print(m2)\n",
    "print(f'shape: {m2.shape}')"
   ]
  },
  {
   "cell_type": "code",
   "execution_count": 88,
   "metadata": {},
   "outputs": [
    {
     "name": "stdout",
     "output_type": "stream",
     "text": [
      "[[0. 0. 0. 0.]\n",
      " [0. 0. 0. 0.]\n",
      " [0. 0. 0. 0.]]\n",
      "shape: (3, 4)\n",
      "--------------------\n",
      "[[[1. 1.]\n",
      "  [1. 1.]]\n",
      "\n",
      " [[1. 1.]\n",
      "  [1. 1.]]]\n",
      "shape: (2, 2, 2)\n",
      "--------------------\n",
      "[[0.44374425 0.97403748 0.53169876 0.28616499 0.39609017]\n",
      " [0.11284562 0.00127377 0.49212893 0.8136422  0.99825668]\n",
      " [0.2924935  0.14824777 0.12746182 0.38614188 0.27206955]\n",
      " [0.3562793  0.69752961 0.63498452 0.03523384 0.21965616]\n",
      " [0.7434812  0.5629264  0.70785456 0.31654599 0.27934577]]\n",
      "shape: (5, 5)\n"
     ]
    }
   ],
   "source": [
    "z = np.zeros((3, 4))\n",
    "print(z)\n",
    "print(f'shape: {z.shape}')\n",
    "\n",
    "print('-' * 20)\n",
    "\n",
    "o = np.ones((2, 2, 2))\n",
    "print(o)\n",
    "print(f'shape: {o.shape}')\n",
    "\n",
    "print('-' * 20)\n",
    "\n",
    "r = np.random.rand(5, 5)  # uniform values between [0, 1)\n",
    "print(r)\n",
    "print(f'shape: {r.shape}')"
   ]
  },
  {
   "cell_type": "code",
   "execution_count": 92,
   "metadata": {},
   "outputs": [
    {
     "name": "stdout",
     "output_type": "stream",
     "text": [
      "[[ 1  2  3  4]\n",
      " [ 5  6  7  8]\n",
      " [ 9 10 11 12]]\n",
      "shape: (3, 4)\n",
      "--------------------\n",
      "[[ 1  2  3]\n",
      " [ 4  5  6]\n",
      " [ 7  8  9]\n",
      " [10 11 12]]\n",
      "shape: (4, 3)\n"
     ]
    }
   ],
   "source": [
    "# reshaping matrices\n",
    "a = np.array([[1, 2, 3, 4], [5, 6, 7, 8], [9, 10, 11, 12]])\n",
    "print(a)\n",
    "print(f'shape: {a.shape}')\n",
    "\n",
    "print('-' * 20)\n",
    "\n",
    "a = a.reshape((4, 3))\n",
    "print(a)\n",
    "print(f'shape: {a.shape}')"
   ]
  },
  {
   "cell_type": "code",
   "execution_count": 93,
   "metadata": {},
   "outputs": [
    {
     "name": "stdout",
     "output_type": "stream",
     "text": [
      "[[[ 1  2  3  4]]\n",
      "\n",
      " [[ 5  6  7  8]]\n",
      "\n",
      " [[ 9 10 11 12]]]\n",
      "shape: (3, 1, 4)\n",
      "--------------------\n",
      "[[[ 1]\n",
      "  [ 2]\n",
      "  [ 3]\n",
      "  [ 4]]\n",
      "\n",
      " [[ 5]\n",
      "  [ 6]\n",
      "  [ 7]\n",
      "  [ 8]]\n",
      "\n",
      " [[ 9]\n",
      "  [10]\n",
      "  [11]\n",
      "  [12]]]\n",
      "shape: (3, 4, 1)\n"
     ]
    }
   ],
   "source": [
    "# adding another dimension to a matrix\n",
    "a = np.array([[1, 2, 3, 4], [5, 6, 7, 8], [9, 10, 11, 12]])\n",
    "\n",
    "e = np.expand_dims(a, axis=1)\n",
    "print(e)\n",
    "print(f'shape: {e.shape}')\n",
    "\n",
    "print('-' * 20)\n",
    "\n",
    "e = np.expand_dims(a, axis=2)\n",
    "print(e)\n",
    "print(f'shape: {e.shape}')"
   ]
  },
  {
   "cell_type": "markdown",
   "metadata": {},
   "source": [
    "# Accessing Matrix Elements\n",
    "Can access matrix elements in a variety of ways:\n",
    "* by index\n",
    "* slicing\n",
    "* using mask arrays/matrices/functions"
   ]
  },
  {
   "cell_type": "code",
   "execution_count": 94,
   "metadata": {},
   "outputs": [
    {
     "name": "stdout",
     "output_type": "stream",
     "text": [
      "[[1 2]\n",
      " [3 4]\n",
      " [5 6]]\n",
      "[3 4]\n",
      "3\n"
     ]
    }
   ],
   "source": [
    "# by index\n",
    "m2 = np.array([[[1, 2], [3, 4], [5, 6]], [[7, 8], [9, 10], [11, 12]]])\n",
    "\n",
    "print(m2[0])\n",
    "print(m2[0][1])\n",
    "print(m2[0][1][0])"
   ]
  },
  {
   "cell_type": "code",
   "execution_count": 95,
   "metadata": {},
   "outputs": [
    {
     "name": "stdout",
     "output_type": "stream",
     "text": [
      "[[  1   2   3   4   5   6   7   8   9  10]\n",
      " [ 11  12  13  14  15  16  17  18  19  20]\n",
      " [ 21  22  23  24  25  26  27  28  29  30]\n",
      " [ 31  32  33  34  35  36  37  38  39  40]\n",
      " [ 41  42  43  44  45  46  47  48  49  50]\n",
      " [ 51  52  53  54  55  56  57  58  59  60]\n",
      " [ 61  62  63  64  65  66  67  68  69  70]\n",
      " [ 71  72  73  74  75  76  77  78  79  80]\n",
      " [ 81  82  83  84  85  86  87  88  89  90]\n",
      " [ 91  92  93  94  95  96  97  98  99 100]]\n",
      "--------------------\n",
      "[[21 22 23 24 25 26 27 28 29 30]\n",
      " [31 32 33 34 35 36 37 38 39 40]]\n",
      "--------------------\n",
      "[[ 3  4]\n",
      " [13 14]\n",
      " [23 24]\n",
      " [33 34]\n",
      " [43 44]\n",
      " [53 54]\n",
      " [63 64]\n",
      " [73 74]\n",
      " [83 84]\n",
      " [93 94]]\n",
      "--------------------\n",
      "[[  2   4   6   8  10]\n",
      " [ 12  14  16  18  20]\n",
      " [ 22  24  26  28  30]\n",
      " [ 32  34  36  38  40]\n",
      " [ 42  44  46  48  50]\n",
      " [ 52  54  56  58  60]\n",
      " [ 62  64  66  68  70]\n",
      " [ 72  74  76  78  80]\n",
      " [ 82  84  86  88  90]\n",
      " [ 92  94  96  98 100]]\n"
     ]
    }
   ],
   "source": [
    "# using slices - notation is [start:stop:step]\n",
    "a = np.array([i for i in range(1, 101)])\n",
    "a = a.reshape((10, 10))\n",
    "print(a)\n",
    "\n",
    "print('-' * 20)\n",
    "\n",
    "print(a[2:4])  # grab rows 2 and 3\n",
    "\n",
    "print('-' * 20)\n",
    "\n",
    "print(a[:, 2:4])  # grab columns 2 and 3\n",
    "\n",
    "print('-' * 20)\n",
    "\n",
    "print(a[:, 1::2])  # grab all of the even numbers"
   ]
  },
  {
   "cell_type": "code",
   "execution_count": 96,
   "metadata": {},
   "outputs": [
    {
     "name": "stdout",
     "output_type": "stream",
     "text": [
      "[[False  True False  True False  True False  True False  True]\n",
      " [False  True False  True False  True False  True False  True]\n",
      " [False  True False  True False  True False  True False  True]\n",
      " [False  True False  True False  True False  True False  True]\n",
      " [False  True False  True False  True False  True False  True]\n",
      " [False  True False  True False  True False  True False  True]\n",
      " [False  True False  True False  True False  True False  True]\n",
      " [False  True False  True False  True False  True False  True]\n",
      " [False  True False  True False  True False  True False  True]\n",
      " [False  True False  True False  True False  True False  True]]\n",
      "[  2   4   6   8  10  12  14  16  18  20  22  24  26  28  30  32  34  36\n",
      "  38  40  42  44  46  48  50  52  54  56  58  60  62  64  66  68  70  72\n",
      "  74  76  78  80  82  84  86  88  90  92  94  96  98 100]\n",
      "--------------------\n",
      "[  2   4   6   8  10  12  14  16  18  20  22  24  26  28  30  32  34  36\n",
      "  38  40  42  44  46  48  50  52  54  56  58  60  62  64  66  68  70  72\n",
      "  74  76  78  80  82  84  86  88  90  92  94  96  98 100]\n"
     ]
    }
   ],
   "source": [
    "# mask arrays\n",
    "a = np.array([i for i in range(1, 101)])\n",
    "a = a.reshape((10, 10))\n",
    "\n",
    "mask = a % 2 == 0\n",
    "print(mask)\n",
    "print(a[mask])\n",
    "\n",
    "print('-' * 20)\n",
    "\n",
    "r = a[a % 2 == 0]  # shorthand example of the above\n",
    "print(r)"
   ]
  },
  {
   "cell_type": "markdown",
   "metadata": {},
   "source": [
    "## Scalar Multiplication\n",
    "Multiplying a matrix by a scalar value"
   ]
  },
  {
   "cell_type": "code",
   "execution_count": 97,
   "metadata": {},
   "outputs": [
    {
     "name": "stdout",
     "output_type": "stream",
     "text": [
      "[[1 2]\n",
      " [3 4]]\n",
      "--------------------\n",
      "[[ 3  6]\n",
      " [ 9 12]]\n",
      "--------------------\n",
      "[[-2 -4]\n",
      " [-6 -8]]\n"
     ]
    }
   ],
   "source": [
    "m = np.array([[1, 2], [3, 4]])\n",
    "print(m)\n",
    "print('-' * 20)\n",
    "print(3 * m)\n",
    "print('-' * 20)\n",
    "print(-2 * m)"
   ]
  },
  {
   "cell_type": "markdown",
   "metadata": {},
   "source": [
    "# Matrix Addition, Subtraction, and Multiplication\n",
    "Elementwise addition and substraction operations.  Note that for elementwise operations to work the matrices must be the same size!"
   ]
  },
  {
   "cell_type": "code",
   "execution_count": 98,
   "metadata": {},
   "outputs": [
    {
     "name": "stdout",
     "output_type": "stream",
     "text": [
      "[[6 7]\n",
      " [8 9]]\n",
      "--------------------\n",
      "[[-4 -3]\n",
      " [-2 -1]]\n",
      "[[4 3]\n",
      " [2 1]]\n",
      "--------------------\n",
      "[[ 5 10]\n",
      " [15 20]]\n"
     ]
    }
   ],
   "source": [
    "a = np.array([[1, 2], [3, 4]])\n",
    "b = np.array([[5, 5], [5, 5]])\n",
    "\n",
    "print(a + b)\n",
    "\n",
    "print('-' * 20)\n",
    "\n",
    "print(a - b)\n",
    "print(b - a)\n",
    "\n",
    "print('-' * 20)\n",
    "\n",
    "print(a * b)"
   ]
  },
  {
   "cell_type": "markdown",
   "metadata": {},
   "source": [
    "# Matrix Multiplication\n",
    "Generally when people refer to matrix multiplication they are referring to the dot product-ish operation not the elementwise multiplication operation.\n",
    "Calculating the multiplication product for a matrix is basically the dot product that we did for vectors just repeated for every element.\n",
    "\n"
   ]
  },
  {
   "cell_type": "code",
   "execution_count": 102,
   "metadata": {},
   "outputs": [
    {
     "name": "stdout",
     "output_type": "stream",
     "text": [
      "[[15  5]\n",
      " [35 11]]\n"
     ]
    }
   ],
   "source": [
    "a = np.array([[1, 2], [3, 4]])\n",
    "b = np.array([[5, 1], [5, 2]])\n",
    "\n",
    "print(np.matmul(a, b))"
   ]
  },
  {
   "cell_type": "code",
   "execution_count": 106,
   "metadata": {},
   "outputs": [
    {
     "name": "stdout",
     "output_type": "stream",
     "text": [
      "a: (3, 4) b: (4, 6)\n",
      "[[1019 1003   97  279 1208  576]\n",
      " [2001 7960  408  846  783 1029]\n",
      " [1927 5612  357 1114 3879 1121]]\n",
      "(3, 6)\n"
     ]
    }
   ],
   "source": [
    "a = np.array([[17, 25, 6, 2], [6, 1, 97, 4], [80, 8, 54, 15]])\n",
    "b = np.array([[3, 14, 1, 7, 42, 5], [32, 11, 2, 4, 18, 17], [19, 81, 4, 8, 5, 10], [27, 2, 3, 6, 7, 3]])\n",
    "\n",
    "print(f'a: {a.shape} b: {b.shape}')\n",
    "r = np.matmul(a, b)\n",
    "print(r)\n",
    "print(f'{r.shape}')"
   ]
  },
  {
   "cell_type": "markdown",
   "metadata": {},
   "source": [
    "# Miscellaneous Matrix Information\n",
    "* transpose of a matrix\n",
    "* identity matrix\n",
    "* inverse of a matrix"
   ]
  },
  {
   "cell_type": "code",
   "execution_count": 107,
   "metadata": {},
   "outputs": [
    {
     "name": "stdout",
     "output_type": "stream",
     "text": [
      "[[ 1  2  3  4]\n",
      " [ 5  6  7  8]\n",
      " [ 9 10 11 12]]\n",
      "--------------------\n",
      "[[ 1  5  9]\n",
      " [ 2  6 10]\n",
      " [ 3  7 11]\n",
      " [ 4  8 12]]\n",
      "--------------------\n",
      "[[ 1  5  9]\n",
      " [ 2  6 10]\n",
      " [ 3  7 11]\n",
      " [ 4  8 12]]\n",
      "--------------------\n",
      "[[[ 1  2]\n",
      "  [ 3  4]\n",
      "  [ 5  6]]\n",
      "\n",
      " [[ 7  8]\n",
      "  [ 9 10]\n",
      "  [11 12]]]\n",
      "--------------------\n",
      "[[[ 1  2]\n",
      "  [ 7  8]]\n",
      "\n",
      " [[ 3  4]\n",
      "  [ 9 10]]\n",
      "\n",
      " [[ 5  6]\n",
      "  [11 12]]]\n"
     ]
    }
   ],
   "source": [
    "# transpose\n",
    "a = np.array([[1, 2, 3, 4], [5, 6, 7, 8], [9, 10, 11, 12]])\n",
    "print(a)\n",
    "print('-' * 20)\n",
    "print(np.transpose(a))\n",
    "print('-' * 20)\n",
    "print(a.T)\n",
    "print('-' * 20)\n",
    "a = a.reshape((2, 3, 2))\n",
    "print(a)\n",
    "print('-' * 20)\n",
    "a = np.transpose(a, (1, 0, 2))\n",
    "print(a)"
   ]
  },
  {
   "cell_type": "code",
   "execution_count": 108,
   "metadata": {},
   "outputs": [
    {
     "name": "stdout",
     "output_type": "stream",
     "text": [
      "[[1. 0. 0. 0. 0. 0. 0. 0. 0. 0. 0.]\n",
      " [0. 1. 0. 0. 0. 0. 0. 0. 0. 0. 0.]\n",
      " [0. 0. 1. 0. 0. 0. 0. 0. 0. 0. 0.]\n",
      " [0. 0. 0. 1. 0. 0. 0. 0. 0. 0. 0.]\n",
      " [0. 0. 0. 0. 1. 0. 0. 0. 0. 0. 0.]\n",
      " [0. 0. 0. 0. 0. 1. 0. 0. 0. 0. 0.]\n",
      " [0. 0. 0. 0. 0. 0. 1. 0. 0. 0. 0.]\n",
      " [0. 0. 0. 0. 0. 0. 0. 1. 0. 0. 0.]\n",
      " [0. 0. 0. 0. 0. 0. 0. 0. 1. 0. 0.]\n",
      " [0. 0. 0. 0. 0. 0. 0. 0. 0. 1. 0.]\n",
      " [0. 0. 0. 0. 0. 0. 0. 0. 0. 0. 1.]]\n"
     ]
    }
   ],
   "source": [
    "# identity matrix\n",
    "i = np.identity(11)\n",
    "print(i)"
   ]
  },
  {
   "cell_type": "code",
   "execution_count": 109,
   "metadata": {},
   "outputs": [
    {
     "name": "stdout",
     "output_type": "stream",
     "text": [
      "[[ 0.2  0.2  0. ]\n",
      " [-0.2  0.3  1. ]\n",
      " [ 0.2 -0.3 -0. ]]\n",
      "[[ 1.00000000e+00  0.00000000e+00  0.00000000e+00]\n",
      " [-5.55111512e-17  1.00000000e+00  0.00000000e+00]\n",
      " [ 0.00000000e+00  0.00000000e+00  1.00000000e+00]]\n"
     ]
    }
   ],
   "source": [
    "# inverse of a matrix\n",
    "a = np.array([[3, 0, 2], [2, 0, -2], [0, 1, 1]])\n",
    "a_inv = LA.inv(a)\n",
    "print(a_inv)\n",
    "print(np.matmul(a, a_inv))"
   ]
  },
  {
   "cell_type": "code",
   "execution_count": null,
   "metadata": {},
   "outputs": [],
   "source": []
  }
 ],
 "metadata": {
  "kernelspec": {
   "display_name": "Python 3",
   "language": "python",
   "name": "python3"
  },
  "language_info": {
   "codemirror_mode": {
    "name": "ipython",
    "version": 3
   },
   "file_extension": ".py",
   "mimetype": "text/x-python",
   "name": "python",
   "nbconvert_exporter": "python",
   "pygments_lexer": "ipython3",
   "version": "3.7.2"
  }
 },
 "nbformat": 4,
 "nbformat_minor": 2
}
